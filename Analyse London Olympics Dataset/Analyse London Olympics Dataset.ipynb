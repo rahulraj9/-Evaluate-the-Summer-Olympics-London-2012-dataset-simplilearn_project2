{
 "cells": [
  {
   "cell_type": "markdown",
   "metadata": {},
   "source": [
    "<img src=\"http://cfs22.simplicdn.net/ice9/new_logo.svgz \"/>\n",
    "\n",
    "# Assignment 02: Evaluate the Summer Olympics, London 2012 dataset\n",
    "\n",
    "*The comments/sections provided are your cues to perform the assignment. You don't need to limit yourself to the number of rows/cells provided. You can add additional rows in each section to add more lines of code.*\n",
    "\n",
    "*If at any point in time you need help on solving this assignment, view our demo video to understand the different steps of the code.*\n",
    "\n",
    "**Happy coding!**\n",
    "\n",
    "* * *"
   ]
  },
  {
   "cell_type": "markdown",
   "metadata": {},
   "source": [
    "#### 1: View and add the dataset"
   ]
  },
  {
   "cell_type": "code",
   "execution_count": 1,
   "metadata": {},
   "outputs": [],
   "source": [
    "#Import the necessary library\n",
    "import numpy as np"
   ]
  },
  {
   "cell_type": "code",
   "execution_count": 2,
   "metadata": {},
   "outputs": [],
   "source": [
    "#Manually add the Summer Olympics, London 2012 dataset as arrays\n",
    "np_olympics_country = np.array(['GBR','CHN','RUS','US','KOR','JPN','GER'])\n",
    "np_olympics_country_Gold = np.array([29,38,24,46,13,7,11])\n",
    "np_olympics_country_Silver = np.array([17,28,25,28,8,14,11])\n",
    "np_olympics_country_Bronze = np.array([19,22,32,29,7,17,14])"
   ]
  },
  {
   "cell_type": "markdown",
   "metadata": {},
   "source": [
    "#### Find the country with maximum gold medals"
   ]
  },
  {
   "cell_type": "code",
   "execution_count": 3,
   "metadata": {},
   "outputs": [],
   "source": [
    "#Use the argmax() method to find the highest number of gold medals\n",
    "max_gold_index = np_olympics_country_Gold.argmax()\n",
    "country_with_max_gold = np_olympics_country[max_gold_index]"
   ]
  },
  {
   "cell_type": "code",
   "execution_count": 4,
   "metadata": {},
   "outputs": [
    {
     "name": "stdout",
     "output_type": "stream",
     "text": [
      "US\n"
     ]
    }
   ],
   "source": [
    "#Print the name of the country\n",
    "print(country_with_max_gold)\n"
   ]
  },
  {
   "cell_type": "markdown",
   "metadata": {},
   "source": [
    "#### Find the countries with more than 20 gold medals"
   ]
  },
  {
   "cell_type": "code",
   "execution_count": 5,
   "metadata": {},
   "outputs": [
    {
     "name": "stdout",
     "output_type": "stream",
     "text": [
      "['GBR' 'CHN' 'RUS' 'US']\n"
     ]
    }
   ],
   "source": [
    "#Use Boolean indexing technique to find the required output\n",
    "print(np_olympics_country[np_olympics_country_Gold>20])"
   ]
  },
  {
   "cell_type": "markdown",
   "metadata": {},
   "source": [
    "#### Evaluate the dataset and print the name of each country with its gold medals and total number of medals"
   ]
  },
  {
   "cell_type": "code",
   "execution_count": 6,
   "metadata": {},
   "outputs": [
    {
     "name": "stdout",
     "output_type": "stream",
     "text": [
      "country GBR has 29 gold medal and total medal is 65\n",
      "country CHN has 38 gold medal and total medal is 88\n",
      "country RUS has 24 gold medal and total medal is 81\n",
      "country US has 46 gold medal and total medal is 103\n",
      "country KOR has 13 gold medal and total medal is 28\n",
      "country JPN has 7 gold medal and total medal is 38\n",
      "country GER has 11 gold medal and total medal is 36\n"
     ]
    }
   ],
   "source": [
    "#Use a for loop to create the required output\n",
    "for i in range(len(np_olympics_country)):\n",
    "    counrty = np_olympics_country[i]\n",
    "    gold_per_country = np_olympics_country_Gold[i]\n",
    "    total_madel =np_olympics_country_Silver[i]+np_olympics_country_Bronze[i]+np_olympics_country_Gold[i] \n",
    "    print('country {} has {} gold medal and total medal is {}'.format(counrty,gold_per_country,total_madel))"
   ]
  },
  {
   "cell_type": "code",
   "execution_count": null,
   "metadata": {},
   "outputs": [],
   "source": []
  }
 ],
 "metadata": {
  "kernelspec": {
   "display_name": "Python 3",
   "language": "python",
   "name": "python3"
  },
  "language_info": {
   "codemirror_mode": {
    "name": "ipython",
    "version": 3
   },
   "file_extension": ".py",
   "mimetype": "text/x-python",
   "name": "python",
   "nbconvert_exporter": "python",
   "pygments_lexer": "ipython3",
   "version": "3.8.8"
  }
 },
 "nbformat": 4,
 "nbformat_minor": 1
}
